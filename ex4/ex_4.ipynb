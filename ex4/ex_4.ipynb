{
  "cells": [
    {
      "cell_type": "markdown",
      "metadata": {
        "id": "view-in-github",
        "colab_type": "text"
      },
      "source": [
        "<a href=\"https://colab.research.google.com/github/marounna/cloud/blob/main/ex_4.ipynb\" target=\"_parent\"><img src=\"https://colab.research.google.com/assets/colab-badge.svg\" alt=\"Open In Colab\"/></a>"
      ]
    },
    {
      "cell_type": "code",
      "execution_count": null,
      "metadata": {
        "colab": {
          "base_uri": "https://localhost:8080/"
        },
        "id": "WyhWhJ6SH9E2",
        "outputId": "bad158ed-4eb1-4402-b1e7-c871b8701d32"
      },
      "outputs": [
        {
          "output_type": "stream",
          "name": "stdout",
          "text": [
            "Mounted at /content/drive\n"
          ]
        }
      ],
      "source": [
        "from google.colab import drive\n",
        "drive.mount('/content/drive')"
      ]
    },
    {
      "cell_type": "code",
      "source": [
        "cd '/content/drive/MyDrive/Colab Notebooks'"
      ],
      "metadata": {
        "colab": {
          "base_uri": "https://localhost:8080/"
        },
        "id": "DbQNLPmbdXp_",
        "outputId": "645af855-fb1f-45cb-8ecc-7f0f3147abe0"
      },
      "execution_count": null,
      "outputs": [
        {
          "output_type": "stream",
          "name": "stdout",
          "text": [
            "/content/drive/MyDrive/Colab Notebooks\n"
          ]
        }
      ]
    },
    {
      "cell_type": "code",
      "execution_count": null,
      "metadata": {
        "colab": {
          "base_uri": "https://localhost:8080/"
        },
        "id": "KG-ubfPdHU0D",
        "outputId": "2c3cc31e-8dd7-47e5-bc4d-01ccb4c3589b"
      },
      "outputs": [
        {
          "output_type": "stream",
          "name": "stdout",
          "text": [
            "\u001b[0m\u001b[01;34mdrive\u001b[0m/  \u001b[01;34msample_data\u001b[0m/\n"
          ]
        }
      ],
      "source": [
        "ls"
      ]
    },
    {
      "cell_type": "code",
      "execution_count": null,
      "metadata": {
        "colab": {
          "base_uri": "https://localhost:8080/",
          "height": 449
        },
        "id": "gKY-9KXTIqeM",
        "outputId": "45d8f58b-5ad1-4377-8e3a-4278837d2232"
      },
      "outputs": [
        {
          "output_type": "display_data",
          "data": {
            "text/plain": [
              "<Figure size 640x480 with 1 Axes>"
            ],
            "image/png": "[encoded data removed]"
          },
          "metadata": {}
        }
      ],
      "source": [
        "import matplotlib.pyplot as plt\n",
        "import json\n",
        "dictionary = json.load(open('1.json', 'r'))\n",
        "xAxis = [key for key, value in dictionary.items()]\n",
        "yAxis = [value for key, value in dictionary.items()]\n",
        "plt.grid(True)\n",
        "## LINE GRAPH ##\n",
        "plt.plot(xAxis,yAxis, color='#8a5082', marker='o')\n",
        "plt.xlabel('variable')\n",
        "plt.ylabel(\"value\")\n",
        "\n",
        "plt.show()"
      ]
    },
    {
      "cell_type": "code",
      "execution_count": null,
      "metadata": {
        "id": "Nxvqypz-99qM"
      },
      "outputs": [],
      "source": [
        "## BAR GRAPH ##\n",
        "fig = plt.figure()\n",
        "# List of colors for each bar\n",
        "colors = ['#84CFB3', '#3CA2C3', '#6FF88B', '#7350F6', '#ADF3FD']\n",
        "\n",
        "plt.bar(xAxis,yAxis, color=colors)\n",
        "plt.title('Bar Graph')\n",
        "plt.xlabel('variable')\n",
        "plt.ylabel('value')\n",
        "plt.show()\n"
      ]
    },
    {
      "cell_type": "code",
      "execution_count": null,
      "metadata": {
        "id": "hbOFdjC0I7ag"
      },
      "outputs": [],
      "source": [
        "import pandas as pd\n",
        "calories = {\"day1\": 420, \"day2\": 380, \"day3\": 390}\n",
        "myvar = pd.Series(calories)\n",
        "print(myvar)\n"
      ]
    },
    {
      "cell_type": "code",
      "execution_count": null,
      "metadata": {
        "id": "zNza4ZSnJM5N"
      },
      "outputs": [],
      "source": [
        "import pandas\n",
        "mydataset = {\n",
        " 'cars': [\"BMW\", \"Volvo\", \"Ford\"],\n",
        " 'passings': [3, 7, 2]\n",
        "}\n",
        "myvar = pandas.DataFrame(mydataset)\n",
        "print(myvar)\n"
      ]
    },
    {
      "cell_type": "code",
      "execution_count": null,
      "metadata": {
        "id": "7QkdKZQvJRL1"
      },
      "outputs": [],
      "source": [
        "import pandas as pd\n",
        "a = [1, 7, 2]\n",
        "myvar = pd.Series(a)\n",
        "print(myvar)\n",
        "print(myvar[0])\n"
      ]
    },
    {
      "cell_type": "code",
      "execution_count": null,
      "metadata": {
        "id": "wfQjqr9THLUD"
      },
      "outputs": [],
      "source": [
        "import pandas as pd\n",
        "data = {\n",
        "\"calories\": [420, 380, 390],\n",
        " \"duration\": [50, 40, 45]\n",
        "}\n",
        "myvar2 = pd.DataFrame(data, index = [\"day1\", \"day2\", \"day3\"])\n",
        "print(myvar2)\n"
      ]
    },
    {
      "cell_type": "code",
      "execution_count": null,
      "metadata": {
        "id": "P7tNOPW7HiNS"
      },
      "outputs": [],
      "source": [
        "import pandas as pd\n",
        "data = {\n",
        " \"calories\": [420, 380, 390],\n",
        " \"duration\": [50, 40, 45]\n",
        "}\n",
        "df = pd.DataFrame(data, index = [\"day1\", \"day2\", \"day3\"])\n",
        "print(df)\n",
        "#refer to the named index:\n",
        "print(df.loc[\"day2\"])\n"
      ]
    },
    {
      "cell_type": "code",
      "execution_count": null,
      "metadata": {
        "id": "JNLDXSJK4dYW"
      },
      "outputs": [],
      "source": [
        "ls"
      ]
    },
    {
      "cell_type": "code",
      "execution_count": null,
      "metadata": {
        "id": "sEqRBNTDGiPU"
      },
      "outputs": [],
      "source": [
        "list1 = json.load(open('data.json', 'r'))\n",
        "print(list1)"
      ]
    },
    {
      "cell_type": "code",
      "execution_count": null,
      "metadata": {
        "id": "XUEAOjGaPcLF"
      },
      "outputs": [],
      "source": [
        "import json\n",
        "import pandas as pd\n",
        "from datetime import datetime\n",
        "import matplotlib.pyplot as plt\n",
        "\n",
        "# Load the data from the JSON file\n",
        "with open('data.json', 'r') as file:\n",
        "    data = json.load(file)\n",
        "\n",
        "# Convert JSON data to a pandas DataFrame\n",
        "df = pd.DataFrame(data)\n",
        "\n",
        "# Convert the 'Time' column to datetime without time\n",
        "df['Time'] = pd.to_datetime(df['Time']).dt.date\n",
        "\n",
        "def filter_data(df, date_range=None, document=None, tab=None, user=None, description=None):\n",
        "    if date_range:\n",
        "        start_date, end_date = date_range\n",
        "        df = df[(df['Time'] >= start_date) & (df['Time'] <= end_date)]\n",
        "\n",
        "    if document:\n",
        "        df = df[df['Document'] == document]\n",
        "\n",
        "    if tab:\n",
        "        df = df[df['Tab'] == tab]\n",
        "\n",
        "    if user:\n",
        "        df = df[df['User'] == user]\n",
        "\n",
        "    if description:\n",
        "        df = df[df['Description'].str.contains(description, case=False, na=False)]\n",
        "\n",
        "    return df\n",
        "\n",
        "def input_filter_criteria():\n",
        "    print(\"Enter the filter criteria (leave blank to skip):\")\n",
        "\n",
        "    start_date = input(\"Start Date (YYYY-MM-DD): \")\n",
        "    end_date = input(\"End Date (YYYY-MM-DD): \")\n",
        "\n",
        "    date_range = None\n",
        "    if start_date and end_date:\n",
        "        try:\n",
        "            start_date = datetime.strptime(start_date, '%Y-%m-%d').date()\n",
        "            end_date = datetime.strptime(end_date, '%Y-%m-%d').date()\n",
        "            date_range = (start_date, end_date)\n",
        "        except ValueError:\n",
        "            print(\"Invalid date format. Please use YYYY-MM-DD\")\n",
        "            return\n",
        "\n",
        "    document = input(\"Document: \")\n",
        "    tab = input(\"Tab: \")\n",
        "    user = input(\"User: \")\n",
        "    description = input(\"Description: \")\n",
        "\n",
        "    return date_range, document, tab, user, description\n",
        "\n",
        "def display_results(results):\n",
        "    if results.empty:\n",
        "        print(\"No results found.\")\n",
        "    else:\n",
        "        print(results)\n",
        "        choose_chart(results)\n",
        "\n",
        "def choose_chart(results):\n",
        "    print(\"Choose a chart type:\")\n",
        "    print(\"1. Bar Chart\")\n",
        "    print(\"2. Line Chart\")\n",
        "    print(\"3. Pie Chart\")\n",
        "    print(\"4. Scatter Plot\")\n",
        "\n",
        "    choice = input(\"Enter the number of your choice: \")\n",
        "\n",
        "    if choice == '1':\n",
        "        plot_bar_chart(results)\n",
        "    elif choice == '2':\n",
        "        plot_line_chart(results)\n",
        "    elif choice == '3':\n",
        "        plot_pie_chart(results)\n",
        "    elif choice == '4':\n",
        "        plot_scatter_plot(results)\n",
        "    else:\n",
        "        print(\"Invalid choice. Please choose a valid chart type.\")\n",
        "\n",
        "def plot_bar_chart(results):\n",
        "    counts = results['Time'].value_counts().sort_index()\n",
        "    counts.plot(kind='bar', figsize=(10, 5))\n",
        "    plt.title('Number of Entries per Day')\n",
        "    plt.xlabel('Date')\n",
        "    plt.ylabel('Number of Entries')\n",
        "    plt.show()\n",
        "\n",
        "def plot_line_chart(results):\n",
        "    counts = results['Time'].value_counts().sort_index()\n",
        "    counts.plot(kind='line', figsize=(10, 5))\n",
        "    plt.title('Number of Entries per Day')\n",
        "    plt.xlabel('Date')\n",
        "    plt.ylabel('Number of Entries')\n",
        "    plt.show()\n",
        "\n",
        "def plot_pie_chart(results):\n",
        "    counts = results['Document'].value_counts()\n",
        "    counts.plot(kind='pie', figsize=(8, 8), autopct='%1.1f%%')\n",
        "    plt.title('Distribution of Documents')\n",
        "    plt.ylabel('')\n",
        "    plt.show()\n",
        "\n",
        "def plot_scatter_plot(results):\n",
        "    if 'Value' in results.columns:\n",
        "        plt.scatter(results['Time'], results['Value'])\n",
        "        plt.title('Scatter Plot of Values over Time')\n",
        "        plt.xlabel('Date')\n",
        "        plt.ylabel('Value')\n",
        "        plt.show()\n",
        "    else:\n",
        "        print(\"No 'Value' column in data to plot scatter plot.\")\n",
        "\n",
        "# Get filter criteria from user\n",
        "date_range, document, tab, user, description = input_filter_criteria()\n",
        "\n",
        "# Filter the data\n",
        "filtered_results = filter_data(df, date_range, document, tab, user, description)\n",
        "\n",
        "# Display the results and the chart\n",
        "display_results(filtered_results)\n"
      ]
    }
  ],
  "metadata": {
    "colab": {
      "provenance": [],
      "include_colab_link": true
    },
    "kernelspec": {
      "display_name": "Python 3",
      "name": "python3"
    },
    "language_info": {
      "name": "python"
    }
  },
  "nbformat": 4,
  "nbformat_minor": 0
}